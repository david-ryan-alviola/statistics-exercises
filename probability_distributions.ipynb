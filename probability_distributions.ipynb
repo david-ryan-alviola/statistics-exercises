{
 "cells": [
  {
   "cell_type": "code",
   "execution_count": 1,
   "metadata": {},
   "outputs": [],
   "source": [
    "import matplotlib.pyplot as plt\n",
    "import numpy as np\n",
    "import pandas as pd\n",
    "from scipy import stats"
   ]
  },
  {
   "cell_type": "markdown",
   "metadata": {},
   "source": [
    "### 1. A bank found that the average number of cars waiting during the noon hour at a drive-up window follows a Poisson distribution with a mean of 2 cars. Make a chart of this distribution and answer these questions concerning the probability of cars waiting at the drive-up window."
   ]
  },
  {
   "cell_type": "code",
   "execution_count": 2,
   "metadata": {},
   "outputs": [],
   "source": [
    "rate = 2 # cars waiting at noon "
   ]
  },
  {
   "cell_type": "markdown",
   "metadata": {},
   "source": [
    "#### * What is the probability that no cars drive up in the noon hour?"
   ]
  },
  {
   "cell_type": "code",
   "execution_count": 3,
   "metadata": {},
   "outputs": [
    {
     "data": {
      "text/plain": [
       "0.1353352832366127"
      ]
     },
     "execution_count": 3,
     "metadata": {},
     "output_type": "execute_result"
    }
   ],
   "source": [
    "stats.poisson(rate).pmf(0)"
   ]
  },
  {
   "cell_type": "markdown",
   "metadata": {},
   "source": [
    "#### * What is the probability that 3 or more cars come through the drive through?"
   ]
  },
  {
   "cell_type": "code",
   "execution_count": 4,
   "metadata": {},
   "outputs": [
    {
     "data": {
      "text/plain": [
       "0.32332358381693654"
      ]
     },
     "execution_count": 4,
     "metadata": {},
     "output_type": "execute_result"
    }
   ],
   "source": [
    "stats.poisson(rate).sf(2)"
   ]
  },
  {
   "cell_type": "markdown",
   "metadata": {},
   "source": [
    "#### * How likely is it that the drive through gets at least 1 car?"
   ]
  },
  {
   "cell_type": "code",
   "execution_count": 5,
   "metadata": {},
   "outputs": [
    {
     "data": {
      "text/plain": [
       "0.40600584970983794"
      ]
     },
     "execution_count": 5,
     "metadata": {},
     "output_type": "execute_result"
    }
   ],
   "source": [
    "stats.poisson(rate).cdf(1)"
   ]
  },
  {
   "cell_type": "markdown",
   "metadata": {},
   "source": [
    "### 2. Grades of State University graduates are normally distributed with a mean of 3.0 and a standard deviation of .3. Calculate the following:"
   ]
  },
  {
   "cell_type": "code",
   "execution_count": 6,
   "metadata": {},
   "outputs": [],
   "source": [
    "mean = 3\n",
    "std = .3\n",
    "grades = stats.norm(mean, std)"
   ]
  },
  {
   "cell_type": "markdown",
   "metadata": {},
   "source": [
    "#### * What grade point average is required to be in the top 5% of the graduating class?"
   ]
  },
  {
   "cell_type": "code",
   "execution_count": 7,
   "metadata": {},
   "outputs": [
    {
     "data": {
      "text/plain": [
       "3.4934560880854417"
      ]
     },
     "execution_count": 7,
     "metadata": {},
     "output_type": "execute_result"
    }
   ],
   "source": [
    "grades.isf(.05)"
   ]
  },
  {
   "cell_type": "markdown",
   "metadata": {},
   "source": [
    "#### * What GPA constitutes the bottom 15% of the class?"
   ]
  },
  {
   "cell_type": "code",
   "execution_count": 8,
   "metadata": {},
   "outputs": [
    {
     "data": {
      "text/plain": [
       "2.689069983151863"
      ]
     },
     "execution_count": 8,
     "metadata": {},
     "output_type": "execute_result"
    }
   ],
   "source": [
    "grades.ppf(.15)"
   ]
  },
  {
   "cell_type": "markdown",
   "metadata": {},
   "source": [
    "#### * An eccentric alumnus left scholarship money for students in the third decile from the bottom of their class. Determine the range of the third decile. Would a student with a 2.8 grade point average qualify for this scholarship?"
   ]
  },
  {
   "cell_type": "code",
   "execution_count": 9,
   "metadata": {},
   "outputs": [
    {
     "name": "stdout",
     "output_type": "stream",
     "text": [
      "2.7475136299281258 - 2.842679846187588\n"
     ]
    }
   ],
   "source": [
    "lower_bound_third_decile = grades.ppf(.2)\n",
    "upper_bound_third_decile = grades.ppf(.3)\n",
    "\n",
    "print(f\"{lower_bound_third_decile} - {upper_bound_third_decile}\")\n",
    "# A student with a 2.8 gpa would qualify for the scholarship"
   ]
  },
  {
   "cell_type": "markdown",
   "metadata": {},
   "source": [
    "#### * If I have a GPA of 3.5, what percentile am I in?"
   ]
  },
  {
   "cell_type": "code",
   "execution_count": 10,
   "metadata": {},
   "outputs": [
    {
     "data": {
      "text/plain": [
       "0.9522096477271853"
      ]
     },
     "execution_count": 10,
     "metadata": {},
     "output_type": "execute_result"
    }
   ],
   "source": [
    "1 - grades.sf(3.5)\n",
    "# ~95th percentile"
   ]
  },
  {
   "cell_type": "markdown",
   "metadata": {},
   "source": [
    "### 3. A marketing website has an average click-through rate of 2%. One day they observe 4326 visitors and 97 click-throughs. How likely is it that this many people or more click through?"
   ]
  },
  {
   "cell_type": "code",
   "execution_count": 11,
   "metadata": {},
   "outputs": [
    {
     "data": {
      "text/plain": [
       "0.11781530585907925"
      ]
     },
     "execution_count": 11,
     "metadata": {},
     "output_type": "execute_result"
    }
   ],
   "source": [
    "probability = click_through_rate = .02\n",
    "n_trials = visitors = 4326\n",
    "\n",
    "stats.binom(n_trials, probability).sf(97)"
   ]
  },
  {
   "cell_type": "markdown",
   "metadata": {},
   "source": [
    "### 4. You are working on some statistics homework consisting of 100 questions where all of the answers are a probability rounded to the hundreths place. Looking to save time, you put down random probabilities as the answer to each question."
   ]
  },
  {
   "cell_type": "code",
   "execution_count": 12,
   "metadata": {},
   "outputs": [],
   "source": [
    "probability = chance_of_guessing = 1/100\n",
    "n_trials = questions_answered = 60"
   ]
  },
  {
   "cell_type": "markdown",
   "metadata": {},
   "source": [
    "#### * What is the probability that at least one of your first 60 answers is correct?"
   ]
  },
  {
   "cell_type": "code",
   "execution_count": 13,
   "metadata": {},
   "outputs": [
    {
     "data": {
      "text/plain": [
       "0.12123327131180733"
      ]
     },
     "execution_count": 13,
     "metadata": {},
     "output_type": "execute_result"
    }
   ],
   "source": [
    "stats.binom(n_trials, probability).sf(1)"
   ]
  },
  {
   "cell_type": "markdown",
   "metadata": {},
   "source": [
    "### 5. The codeup staff tends to get upset when the student break area is not cleaned up. Suppose that there's a 3% chance that any one student cleans the break area when they visit it, and, on any given day, about 90% of the 3 active cohorts of 22 students visit the break area. How likely is it that the break area gets cleaned up each day?"
   ]
  },
  {
   "cell_type": "code",
   "execution_count": 14,
   "metadata": {},
   "outputs": [
    {
     "data": {
      "text/plain": [
       "0.8342199288437355"
      ]
     },
     "execution_count": 14,
     "metadata": {},
     "output_type": "execute_result"
    }
   ],
   "source": [
    "probability = chance_of_cleaning = .03\n",
    "n_trials = visitors = .9 * (22 * 3)\n",
    "\n",
    "stats.binom(n_trials, probability).sf(0)"
   ]
  },
  {
   "cell_type": "markdown",
   "metadata": {},
   "source": [
    "#### * How likely is it that it goes two days without getting cleaned up?"
   ]
  },
  {
   "cell_type": "code",
   "execution_count": 15,
   "metadata": {},
   "outputs": [
    {
     "data": {
      "text/plain": [
       "0.21824"
      ]
     },
     "execution_count": 15,
     "metadata": {},
     "output_type": "execute_result"
    }
   ],
   "source": [
    "outcomes = [0, 1] # 1 is cleaned\n",
    "daily_chance_of_cleaning = stats.binom(n_trials, probability).sf(1)\n",
    "n_trials = days_straight = 2\n",
    "n_simulations = 100_000\n",
    "\n",
    "sims = np.random.choice(outcomes, size = (n_simulations, n_trials), p = [1 - daily_chance_of_cleaning, daily_chance_of_cleaning])\n",
    "no_cleaning_2 = sims.sum(axis = 1) == 0\n",
    "no_cleaning_2.mean()"
   ]
  },
  {
   "cell_type": "markdown",
   "metadata": {},
   "source": [
    "#### * All week?"
   ]
  },
  {
   "cell_type": "code",
   "execution_count": 16,
   "metadata": {},
   "outputs": [
    {
     "data": {
      "text/plain": [
       "0.00498"
      ]
     },
     "execution_count": 16,
     "metadata": {},
     "output_type": "execute_result"
    }
   ],
   "source": [
    "sims = np.random.choice(outcomes, size = (n_simulations, 7), p = [1 - daily_chance_of_cleaning, daily_chance_of_cleaning])\n",
    "\n",
    "no_cleaning_7 = sims.sum(axis = 1) == 0\n",
    "no_cleaning_7.mean()"
   ]
  },
  {
   "cell_type": "markdown",
   "metadata": {},
   "source": [
    "### 6. You want to get lunch at La Panaderia, but notice that the line is usually very long at lunchtime. After several weeks of careful observation, you notice that the average number of people in line when your lunch break starts is normally distributed with a mean of 15 and standard deviation of 3. If it takes 2 minutes for each person to order, and 10 minutes from ordering to getting your food, what is the likelihood that you have at least 15 minutes left to eat your food before you have to go back to class? Assume you have one hour for lunch, and ignore travel time to and from La Panaderia."
   ]
  },
  {
   "cell_type": "code",
   "execution_count": 17,
   "metadata": {},
   "outputs": [
    {
     "data": {
      "text/plain": [
       "0.7475074624530771"
      ]
     },
     "execution_count": 17,
     "metadata": {},
     "output_type": "execute_result"
    }
   ],
   "source": [
    "# Find the probability of the maximum number of people being in line that leaves 15 mins to eat where:  max_people = (45 - 10) mins / (2 mins / person) => 17.5 persons / 2 = 17 people => round down to 17 people\n",
    "average_number_in_line = 15 # people\n",
    "std = 3\n",
    "\n",
    "prob_17_or_less = stats.norm(average_number_in_line, std).cdf(17)\n",
    "prob_17_or_less"
   ]
  },
  {
   "cell_type": "markdown",
   "metadata": {},
   "source": [
    "### 7. Connect to the employees database and find the average salary of current employees, along with the standard deviation. For the following questions, calculate the answer based on modeling the employees salaries with a normal distribution defined by the calculated mean and standard deviation then compare this answer to the actual values present in the salaries dataset."
   ]
  },
  {
   "cell_type": "code",
   "execution_count": 34,
   "metadata": {},
   "outputs": [
    {
     "name": "stdout",
     "output_type": "stream",
     "text": [
      "mean:  72012.23585730705, std:  17309.99538025198\n"
     ]
    }
   ],
   "source": [
    "from env import host, user, password, get_db_url\n",
    "\n",
    "employees_select = \"\"\"SELECT *\n",
    "                        FROM employees\n",
    "                            JOIN salaries USING(emp_no)\n",
    "                        WHERE to_date > now()\"\"\"\n",
    "\n",
    "employees_df = pd.read_sql(employees_select, get_db_url(user, password, host, \"employees\"))\n",
    "mean = employees_df.salary.agg(\"mean\")\n",
    "std = employees_df.salary.agg(\"std\")\n",
    "print(f\"mean:  {mean}, std:  {std}\")\n",
    "\n",
    "salary_distribution = stats.norm(mean, std)"
   ]
  },
  {
   "cell_type": "markdown",
   "metadata": {},
   "source": [
    "#### * What percent of employees earn less than 60,000?"
   ]
  },
  {
   "cell_type": "code",
   "execution_count": 35,
   "metadata": {},
   "outputs": [],
   "source": [
    "calc_percent_under_60 = salary_distribution.cdf(59_999)"
   ]
  },
  {
   "cell_type": "code",
   "execution_count": 37,
   "metadata": {},
   "outputs": [],
   "source": [
    "employees_df['under_60'] = employees_df.salary < 60000"
   ]
  },
  {
   "cell_type": "code",
   "execution_count": 38,
   "metadata": {},
   "outputs": [
    {
     "name": "stdout",
     "output_type": "stream",
     "text": [
      "Calculated:  0.2438393099761686, Actual:  0.2705727041028802\n"
     ]
    }
   ],
   "source": [
    "actual_percent_under_60 = employees_df.under_60.sum() / len(employees_df)\n",
    "\n",
    "print(f\"Calculated:  {calc_percent_under_60}, Actual:  {actual_percent_under_60}\")"
   ]
  },
  {
   "cell_type": "markdown",
   "metadata": {},
   "source": [
    "#### * What percent of employees earn more than 95,000?"
   ]
  },
  {
   "cell_type": "code",
   "execution_count": 40,
   "metadata": {},
   "outputs": [],
   "source": [
    "calc_percent_over_95 = salary_distribution.sf(95_000)"
   ]
  },
  {
   "cell_type": "code",
   "execution_count": 41,
   "metadata": {},
   "outputs": [],
   "source": [
    "employees_df['over_95'] = employees_df.salary > 95000"
   ]
  },
  {
   "cell_type": "code",
   "execution_count": 43,
   "metadata": {},
   "outputs": [
    {
     "name": "stdout",
     "output_type": "stream",
     "text": [
      "Calculated:  0.09208819199804053, Actual:  0.1086272092752078\n"
     ]
    }
   ],
   "source": [
    "actual_percent_over_95 = employees_df.over_95.sum() / len(employees_df)\n",
    "\n",
    "print(f\"Calculated:  {calc_percent_over_95}, Actual:  {actual_percent_over_95}\")"
   ]
  },
  {
   "cell_type": "markdown",
   "metadata": {},
   "source": [
    "#### * What percent of employees earn between 65,000 and 80,000?"
   ]
  },
  {
   "cell_type": "code",
   "execution_count": 44,
   "metadata": {},
   "outputs": [],
   "source": [
    "calc_between_65_80 = salary_distribution.cdf(79_999) - salary_distribution.cdf(65_001)"
   ]
  },
  {
   "cell_type": "code",
   "execution_count": 45,
   "metadata": {},
   "outputs": [],
   "source": [
    "employees_df['between_65_80'] = (employees_df.salary > 65000) & (employees_df.salary < 80000)"
   ]
  },
  {
   "cell_type": "code",
   "execution_count": 46,
   "metadata": {},
   "outputs": [
    {
     "name": "stdout",
     "output_type": "stream",
     "text": [
      "Calculated:  0.33501861739056393, Actual:  0.325107028035515\n"
     ]
    }
   ],
   "source": [
    "actual_between_65_80 = employees_df.between_65_80.sum() / len(employees_df)\n",
    "\n",
    "print(f\"Calculated:  {calc_between_65_80}, Actual:  {actual_between_65_80}\")"
   ]
  },
  {
   "cell_type": "markdown",
   "metadata": {},
   "source": [
    "#### * What do the top 5% of employees make?"
   ]
  },
  {
   "cell_type": "code",
   "execution_count": 56,
   "metadata": {},
   "outputs": [],
   "source": [
    "calc_top_5_percent = salary_distribution.isf(.05)"
   ]
  },
  {
   "cell_type": "code",
   "execution_count": 57,
   "metadata": {},
   "outputs": [
    {
     "name": "stdout",
     "output_type": "stream",
     "text": [
      "12006.0\n"
     ]
    }
   ],
   "source": [
    "print(round(len(employees_df) * .05, 0))"
   ]
  },
  {
   "cell_type": "code",
   "execution_count": 66,
   "metadata": {},
   "outputs": [
    {
     "name": "stdout",
     "output_type": "stream",
     "text": [
      "Calculated:  100484.64454102777, Actual:  [104228]\n"
     ]
    }
   ],
   "source": [
    "actual_top_5_percent = employees_df.salary.sort_values(ascending = False).head(12006).sort_values(ascending = True).head(1)\n",
    "\n",
    "print(f\"Calculated:  {calc_top_5_percent}, Actual:  {actual_top_5_percent.values}\")"
   ]
  }
 ],
 "metadata": {
  "kernelspec": {
   "display_name": "Python 3",
   "language": "python",
   "name": "python3"
  },
  "language_info": {
   "codemirror_mode": {
    "name": "ipython",
    "version": 3
   },
   "file_extension": ".py",
   "mimetype": "text/x-python",
   "name": "python",
   "nbconvert_exporter": "python",
   "pygments_lexer": "ipython3",
   "version": "3.8.5"
  }
 },
 "nbformat": 4,
 "nbformat_minor": 4
}
