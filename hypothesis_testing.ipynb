{
 "cells": [
  {
   "cell_type": "markdown",
   "metadata": {},
   "source": [
    "### For each of the following questions, formulate a null and alternative hypothesis (be as specific as you can be), then give an example of what a true positive, true negative, type I and type II errors would look like. Note that some of the questions are intentionally phrased in a vague way. It is your job to reword these as more precise questions that could be tested."
   ]
  },
  {
   "cell_type": "markdown",
   "metadata": {},
   "source": [
    "#### * Has the network latency gone up since we switched internet service providers?"
   ]
  },
  {
   "cell_type": "markdown",
   "metadata": {},
   "source": [
    "* Null hypothesis:  There is no difference in network latency since we switched ISPs.\n",
    "* Alternative hypothesis:  Network latency has increased since we switched ISPs.\n",
    "* True positive:  Average network latency is higher with the new ISP than the previous ISP.\n",
    "* True negative:  Average network latency is the same with the new ISP than the previous ISP.\n",
    "* Type 1 error:  Average network latency appears higher because of periods of excessive traffic.\n",
    "* Type 2 error:  Average network latency appears the same because of periods of extremely low traffic."
   ]
  },
  {
   "cell_type": "markdown",
   "metadata": {},
   "source": [
    "#### * Is the website redesign any good?"
   ]
  },
  {
   "cell_type": "markdown",
   "metadata": {},
   "source": [
    "* Null hypothesis:  There is no difference in the click-through rate before th redesign.\n",
    "* Alternative hypothesis:  The website redesign has increase click-through rate.\n",
    "* True positive:  Click-through rate has increased by 10%\n",
    "* True negative:  Click-through rate is within 10% of the previous value.\n",
    "* Type 1 error:  Click-through rate has increased because of a sale, but has a similar click-through rate to the previous design during a sale period.\n",
    "* Type 2 error:  Click-through rate decreases due to website down time and does not increase enough to be considered positive."
   ]
  },
  {
   "cell_type": "markdown",
   "metadata": {},
   "source": [
    "#### * Is our television ad driving more sales?"
   ]
  },
  {
   "cell_type": "markdown",
   "metadata": {},
   "source": [
    "* Null hypothesis:  Sales revenue remained the same with the TV ad.\n",
    "* Alternative hypothesis:  The TV ad has increase sales revenue.\n",
    "* True positive:  Daily revenue is 20% higher during the period of the TV ad.\n",
    "* True negative:  Daily revenue is within 20% of the daily revenue with no ad.\n",
    "* Type 1 error:  Daily revenue increases because of a large recurring order during the period of the TV ad.\n",
    "* Type 2 error:  Daily revenue is within 20% of the daily revenue with no ad because of an economic recession causing customers to buy less."
   ]
  },
  {
   "cell_type": "code",
   "execution_count": 1,
   "metadata": {},
   "outputs": [],
   "source": [
    "import matplotlib.pyplot as plt\n",
    "import numpy as np\n",
    "import pandas as pd\n",
    "from scipy import stats\n",
    "from env import user, password, host, get_db_url"
   ]
  },
  {
   "cell_type": "markdown",
   "metadata": {},
   "source": [
    "### 1. Ace Realty wants to determine whether the average time it takes to sell homes is different for its two offices. A sample of 40 sales from office #1 revealed a mean of 90 days and a standard deviation of 15 days. A sample of 50 sales from office #2 revealed a mean of 100 days and a standard deviation of 20 days. Use a .05 level of significance."
   ]
  },
  {
   "cell_type": "code",
   "execution_count": 2,
   "metadata": {},
   "outputs": [],
   "source": [
    "office_1_mean = 90\n",
    "office_1_std = 15\n",
    "office_1_sales = 40\n",
    "office_1_outcomes = np.random.normal(loc = office_1_mean, scale = office_1_std, size = office_1_sales)\n",
    "\n",
    "office_2_mean = 100\n",
    "office_2_std = 20\n",
    "office_2_sales = 100\n",
    "office_2_outcomes = np.random.normal(loc = office_2_mean, scale = office_2_std, size = office_2_sales)\n",
    "\n",
    "n_simulations = 100_000\n",
    "\n",
    "office_1_simulations = np.random.choice(office_1_outcomes, size = n_simulations)\n",
    "office_2_simulations = np.random.choice(office_2_outcomes, size = n_simulations)"
   ]
  },
  {
   "cell_type": "code",
   "execution_count": 3,
   "metadata": {},
   "outputs": [
    {
     "name": "stdout",
     "output_type": "stream",
     "text": [
      "t:  -146.30810889686924, p:  0.0, a:  0.050000000000000044\n"
     ]
    }
   ],
   "source": [
    "null_hypothesis = \"There is no difference in the average time it takes to sell houses between the two offices.\"\n",
    "alternative_hypothesis = \"The average time it takes to sell houses between the two offices differ.\"\n",
    "\n",
    "confidence = .95\n",
    "alpha = 1 - confidence\n",
    "\n",
    "# def evaluate_p_value(p, alpha, null_hypothesis, alternative_hypothesis):\n",
    "#     if p < alpha:\n",
    "#         print(\"Reject the null hypothesis.\")\n",
    "#         print(f\"Move forward with the alternative hypothesis:  {alternative_hypothesis}\")\n",
    "#     else:\n",
    "#         print(f\"Fail to reject null hypothesis:  {null_hypothesis}\")\n",
    "        \n",
    "t, p = stats.ttest_ind(office_1_simulations, office_2_simulations)\n",
    "t, p\n",
    "\n",
    "print(f\"t:  {t}, p:  {p}, a:  {alpha}\")"
   ]
  },
  {
   "cell_type": "code",
   "execution_count": 4,
   "metadata": {},
   "outputs": [
    {
     "name": "stdout",
     "output_type": "stream",
     "text": [
      "Reject the null hypothesis\n"
     ]
    }
   ],
   "source": [
    "if p < alpha:\n",
    "    print(\"Reject the null hypothesis\")\n",
    "else:\n",
    "    print(\"Fail to reject the null hypothesis\")"
   ]
  },
  {
   "cell_type": "markdown",
   "metadata": {},
   "source": [
    "#### The average time it takes to sell house IS different between the two offices."
   ]
  },
  {
   "cell_type": "markdown",
   "metadata": {},
   "source": [
    "### 2. Load the mpg dataset and use it to answer the following questions:"
   ]
  },
  {
   "cell_type": "code",
   "execution_count": 5,
   "metadata": {},
   "outputs": [
    {
     "data": {
      "text/html": [
       "<div>\n",
       "<style scoped>\n",
       "    .dataframe tbody tr th:only-of-type {\n",
       "        vertical-align: middle;\n",
       "    }\n",
       "\n",
       "    .dataframe tbody tr th {\n",
       "        vertical-align: top;\n",
       "    }\n",
       "\n",
       "    .dataframe thead th {\n",
       "        text-align: right;\n",
       "    }\n",
       "</style>\n",
       "<table border=\"1\" class=\"dataframe\">\n",
       "  <thead>\n",
       "    <tr style=\"text-align: right;\">\n",
       "      <th></th>\n",
       "      <th>manufacturer</th>\n",
       "      <th>model</th>\n",
       "      <th>displ</th>\n",
       "      <th>year</th>\n",
       "      <th>cyl</th>\n",
       "      <th>trans</th>\n",
       "      <th>drv</th>\n",
       "      <th>cty</th>\n",
       "      <th>hwy</th>\n",
       "      <th>fl</th>\n",
       "      <th>class</th>\n",
       "      <th>avg_mpg</th>\n",
       "    </tr>\n",
       "  </thead>\n",
       "  <tbody>\n",
       "    <tr>\n",
       "      <th>1</th>\n",
       "      <td>audi</td>\n",
       "      <td>a4</td>\n",
       "      <td>1.8</td>\n",
       "      <td>1999</td>\n",
       "      <td>4</td>\n",
       "      <td>auto(l5)</td>\n",
       "      <td>f</td>\n",
       "      <td>18</td>\n",
       "      <td>29</td>\n",
       "      <td>p</td>\n",
       "      <td>compact</td>\n",
       "      <td>23.5</td>\n",
       "    </tr>\n",
       "    <tr>\n",
       "      <th>2</th>\n",
       "      <td>audi</td>\n",
       "      <td>a4</td>\n",
       "      <td>1.8</td>\n",
       "      <td>1999</td>\n",
       "      <td>4</td>\n",
       "      <td>manual(m5)</td>\n",
       "      <td>f</td>\n",
       "      <td>21</td>\n",
       "      <td>29</td>\n",
       "      <td>p</td>\n",
       "      <td>compact</td>\n",
       "      <td>25.0</td>\n",
       "    </tr>\n",
       "    <tr>\n",
       "      <th>3</th>\n",
       "      <td>audi</td>\n",
       "      <td>a4</td>\n",
       "      <td>2.0</td>\n",
       "      <td>2008</td>\n",
       "      <td>4</td>\n",
       "      <td>manual(m6)</td>\n",
       "      <td>f</td>\n",
       "      <td>20</td>\n",
       "      <td>31</td>\n",
       "      <td>p</td>\n",
       "      <td>compact</td>\n",
       "      <td>25.5</td>\n",
       "    </tr>\n",
       "    <tr>\n",
       "      <th>4</th>\n",
       "      <td>audi</td>\n",
       "      <td>a4</td>\n",
       "      <td>2.0</td>\n",
       "      <td>2008</td>\n",
       "      <td>4</td>\n",
       "      <td>auto(av)</td>\n",
       "      <td>f</td>\n",
       "      <td>21</td>\n",
       "      <td>30</td>\n",
       "      <td>p</td>\n",
       "      <td>compact</td>\n",
       "      <td>25.5</td>\n",
       "    </tr>\n",
       "    <tr>\n",
       "      <th>5</th>\n",
       "      <td>audi</td>\n",
       "      <td>a4</td>\n",
       "      <td>2.8</td>\n",
       "      <td>1999</td>\n",
       "      <td>6</td>\n",
       "      <td>auto(l5)</td>\n",
       "      <td>f</td>\n",
       "      <td>16</td>\n",
       "      <td>26</td>\n",
       "      <td>p</td>\n",
       "      <td>compact</td>\n",
       "      <td>21.0</td>\n",
       "    </tr>\n",
       "  </tbody>\n",
       "</table>\n",
       "</div>"
      ],
      "text/plain": [
       "  manufacturer model  displ  year  cyl       trans drv  cty  hwy fl    class  \\\n",
       "1         audi    a4    1.8  1999    4    auto(l5)   f   18   29  p  compact   \n",
       "2         audi    a4    1.8  1999    4  manual(m5)   f   21   29  p  compact   \n",
       "3         audi    a4    2.0  2008    4  manual(m6)   f   20   31  p  compact   \n",
       "4         audi    a4    2.0  2008    4    auto(av)   f   21   30  p  compact   \n",
       "5         audi    a4    2.8  1999    6    auto(l5)   f   16   26  p  compact   \n",
       "\n",
       "   avg_mpg  \n",
       "1     23.5  \n",
       "2     25.0  \n",
       "3     25.5  \n",
       "4     25.5  \n",
       "5     21.0  "
      ]
     },
     "execution_count": 5,
     "metadata": {},
     "output_type": "execute_result"
    }
   ],
   "source": [
    "from pydataset import data\n",
    "\n",
    "# Same confidence level for all questions\n",
    "confidence = .95\n",
    "alpha = 1 - confidence\n",
    "\n",
    "mpg = data(\"mpg\")\n",
    "mpg['avg_mpg'] = mpg[['cty', 'hwy']].mean(axis = 1)\n",
    "\n",
    "mpg.head()"
   ]
  },
  {
   "cell_type": "markdown",
   "metadata": {},
   "source": [
    "* Is there a difference in fuel-efficiency in cars from 2008 vs 1999?"
   ]
  },
  {
   "cell_type": "code",
   "execution_count": 6,
   "metadata": {},
   "outputs": [
    {
     "name": "stdout",
     "output_type": "stream",
     "text": [
      "t:  0.21960177245940962, p:  0.8263744040323578, a:  0.050000000000000044\n",
      "We cannot reject the null hypothesis\n"
     ]
    }
   ],
   "source": [
    "# Two-sample, two-tailed test\n",
    "null_hypothesis = \"There is no difference in avg_mpg between 1999 and 2008 cars\"\n",
    "alt_hypothesis = \"There is a difference in avg_mpg between 1999 and 2008 cars\"\n",
    "\n",
    "mpg_2008 = mpg[mpg.year == 2008]\n",
    "mpg_1999 = mpg[mpg.year == 1999]\n",
    "\n",
    "t, p = stats.ttest_ind(mpg_1999.avg_mpg, mpg_2008.avg_mpg)\n",
    "print(f\"t:  {t}, p:  {p}, a:  {alpha}\")\n",
    "\n",
    "if p < alpha:\n",
    "    print(\"We reject the null hypothesis\")\n",
    "else:\n",
    "    print(\"We cannot reject the null hypothesis\")"
   ]
  },
  {
   "cell_type": "markdown",
   "metadata": {},
   "source": [
    "#### We cannot reject the null hyothesis that there is no difference in avg_mpg between 1999 and 2008 cars"
   ]
  },
  {
   "cell_type": "markdown",
   "metadata": {},
   "source": [
    "* Are compact cars more fuel-efficient than the average car?"
   ]
  },
  {
   "cell_type": "code",
   "execution_count": null,
   "metadata": {},
   "outputs": [],
   "source": [
    "# One-sample, one-tailed test\n",
    "null_hypothesis = \"Compact cars are just as fuel-efficient as the average car\"\n",
    "alt_hypothesis = \"Compact cars are more fuel-efficient than average cars\"\n",
    "\n",
    "mpg_compact = mpg[mpg['class'] == \"compact\"]\n",
    "mpg_non_compact = mpg[mpg['class'] != \"compact\"]\n",
    "\n",
    "t, p = stats.ttest_ind(mpg_compact.avg_mpg, mpg_non_compact.avg_mpg)\n",
    "print(f\"t:  {t}, p:  {p}, a:  {alpha}\")"
   ]
  },
  {
   "cell_type": "code",
   "execution_count": 18,
   "metadata": {},
   "outputs": [
    {
     "name": "stdout",
     "output_type": "stream",
     "text": [
      "t:  6.731177612837954, p:  1.3059121585018135e-10, a:  0.050000000000000044\n",
      "We reject the null hypothesis\n"
     ]
    }
   ],
   "source": [
    "if p/2 < alpha and t > 0:\n",
    "    print(\"We reject the null hypothesis\")\n",
    "else:\n",
    "    print(\"We fail reject the null hypothesis\")"
   ]
  },
  {
   "cell_type": "markdown",
   "metadata": {},
   "source": [
    "#### We reject the null hypothesis that compact car are just as fuel-efficient as the average car "
   ]
  },
  {
   "cell_type": "markdown",
   "metadata": {},
   "source": [
    "* Do manual cars get better gas mileage than automatic cars?"
   ]
  },
  {
   "cell_type": "code",
   "execution_count": 30,
   "metadata": {},
   "outputs": [
    {
     "name": "stdout",
     "output_type": "stream",
     "text": [
      "t:  4.593437735750014, p:  7.154374401145683e-06, a:  0.050000000000000044\n"
     ]
    }
   ],
   "source": [
    "# Two-sample, one-tail test\n",
    "null_hypothesis = \"Manual cars have the same avg_mpg as automatic cars\"\n",
    "alt_hypothesis = \"Manual cars have a higher avg_mpg than automatic cars\"\n",
    "\n",
    "mpg['simple_trans'] = mpg.trans.str.rsplit(\"(\", 1).str[0]\n",
    "\n",
    "mpg_manual = mpg[mpg.simple_trans == \"manual\"]\n",
    "mpg_auto = mpg[mpg.simple_trans == \"auto\"]\n",
    "\n",
    "t, p = stats.ttest_ind(mpg_manual.avg_mpg, mpg_auto.avg_mpg)\n",
    "print(f\"t:  {t}, p:  {p}, a:  {alpha}\")"
   ]
  },
  {
   "cell_type": "code",
   "execution_count": 31,
   "metadata": {},
   "outputs": [
    {
     "name": "stdout",
     "output_type": "stream",
     "text": [
      "We reject the null hypothesis\n"
     ]
    }
   ],
   "source": [
    "if p/2 < alpha and t > 0:\n",
    "    print(\"We reject the null hypothesis\")\n",
    "else:\n",
    "    print(\"We fail to reject the null hypothesis\")"
   ]
  },
  {
   "cell_type": "markdown",
   "metadata": {},
   "source": [
    "#### We reject the null hypothesis that manual cars have the same avg_mpg as automatic cars and move forward with the hypothesis that manual cars have a higher avg_mpg than automatic cars."
   ]
  },
  {
   "cell_type": "code",
   "execution_count": null,
   "metadata": {},
   "outputs": [],
   "source": []
  }
 ],
 "metadata": {
  "kernelspec": {
   "display_name": "Python 3",
   "language": "python",
   "name": "python3"
  },
  "language_info": {
   "codemirror_mode": {
    "name": "ipython",
    "version": 3
   },
   "file_extension": ".py",
   "mimetype": "text/x-python",
   "name": "python",
   "nbconvert_exporter": "python",
   "pygments_lexer": "ipython3",
   "version": "3.8.5"
  }
 },
 "nbformat": 4,
 "nbformat_minor": 4
}
