{
 "cells": [
  {
   "cell_type": "markdown",
   "metadata": {},
   "source": [
    "### For each of the following questions, formulate a null and alternative hypothesis (be as specific as you can be), then give an example of what a true positive, true negative, type I and type II errors would look like. Note that some of the questions are intentionally phrased in a vague way. It is your job to reword these as more precise questions that could be tested."
   ]
  },
  {
   "cell_type": "markdown",
   "metadata": {},
   "source": [
    "#### * Has the network latency gone up since we switched internet service providers?"
   ]
  },
  {
   "cell_type": "markdown",
   "metadata": {},
   "source": [
    "* Null hypothesis:  There is no difference in network latency since we switched ISPs.\n",
    "* Alternative hypothesis:  Network latency has increased since we switched ISPs.\n",
    "* True positive:  Average network latency is higher with the new ISP than the previous ISP.\n",
    "* True negative:  Average network latency is the same with the new ISP than the previous ISP.\n",
    "* Type 1 error:  Average network latency appears higher because of periods of excessive traffic.\n",
    "* Type 2 error:  Average network latency appears the same because of periods of extremely low traffic."
   ]
  },
  {
   "cell_type": "markdown",
   "metadata": {},
   "source": [
    "#### * Is the website redesign any good?"
   ]
  },
  {
   "cell_type": "markdown",
   "metadata": {},
   "source": [
    "* Null hypothesis:  There is no difference in the click-through rate before th redesign.\n",
    "* Alternative hypothesis:  The website redesign has increase click-through rate.\n",
    "* True positive:  Click-through rate has increased by 10%\n",
    "* True negative:  Click-through rate is within 10% of the previous value.\n",
    "* Type 1 error:  Click-through rate has increased because of a sale, but has a similar click-through rate to the previous design during a sale period.\n",
    "* Type 2 error:  Click-through rate decreases due to website down time and does not increase enough to be considered positive."
   ]
  },
  {
   "cell_type": "markdown",
   "metadata": {},
   "source": [
    "#### * Is our television ad driving more sales?"
   ]
  },
  {
   "cell_type": "markdown",
   "metadata": {},
   "source": [
    "* Null hypothesis:  Sales revenue remained the same with the TV ad.\n",
    "* Alternative hypothesis:  The TV ad has increase sales revenue.\n",
    "* True positive:  Daily revenue is 20% higher during the period of the TV ad.\n",
    "* True negative:  Daily revenue is within 20% of the daily revenue with no ad.\n",
    "* Type 1 error:  Daily revenue increases because of a large recurring order during the period of the TV ad.\n",
    "* Type 2 error:  Daily revenue is within 20% of the daily revenue with no ad because of an economic recession causing customers to buy less."
   ]
  },
  {
   "cell_type": "code",
   "execution_count": null,
   "metadata": {},
   "outputs": [],
   "source": []
  }
 ],
 "metadata": {
  "kernelspec": {
   "display_name": "Python 3",
   "language": "python",
   "name": "python3"
  },
  "language_info": {
   "codemirror_mode": {
    "name": "ipython",
    "version": 3
   },
   "file_extension": ".py",
   "mimetype": "text/x-python",
   "name": "python",
   "nbconvert_exporter": "python",
   "pygments_lexer": "ipython3",
   "version": "3.8.5"
  }
 },
 "nbformat": 4,
 "nbformat_minor": 4
}
